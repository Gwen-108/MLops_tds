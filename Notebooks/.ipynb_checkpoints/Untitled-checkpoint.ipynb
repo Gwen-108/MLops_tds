{
 "cells": [
  {
   "cell_type": "markdown",
   "id": "e26c2b36",
   "metadata": {},
   "source": [
    "# Exo - Mlops"
   ]
  },
  {
   "cell_type": "raw",
   "id": "2a40a68d",
   "metadata": {},
   "source": [
    "Créer les vecteurs a et b "
   ]
  },
  {
   "cell_type": "code",
   "execution_count": 27,
   "id": "f473a8e9",
   "metadata": {},
   "outputs": [],
   "source": [
    "import numpy as np\n",
    "import matplotlib.pyplot as plt \n",
    "\n"
   ]
  },
  {
   "cell_type": "code",
   "execution_count": 29,
   "id": "fb3a04e0",
   "metadata": {},
   "outputs": [],
   "source": [
    "a=np.array([1,2,3])\n",
    "b=np.array([4,5,6])"
   ]
  },
  {
   "cell_type": "raw",
   "id": "548dd4da",
   "metadata": {},
   "source": [
    "Sommer les vecteurs"
   ]
  },
  {
   "cell_type": "code",
   "execution_count": 30,
   "id": "a9d322b6",
   "metadata": {},
   "outputs": [
    {
     "data": {
      "text/plain": [
       "array([5, 7, 9])"
      ]
     },
     "execution_count": 30,
     "metadata": {},
     "output_type": "execute_result"
    }
   ],
   "source": [
    "a+b"
   ]
  },
  {
   "cell_type": "raw",
   "id": "8c44432c",
   "metadata": {},
   "source": [
    "Soustraire les vecteurs"
   ]
  },
  {
   "cell_type": "code",
   "execution_count": 31,
   "id": "dd60f510",
   "metadata": {},
   "outputs": [
    {
     "data": {
      "text/plain": [
       "array([-3, -3, -3])"
      ]
     },
     "execution_count": 31,
     "metadata": {},
     "output_type": "execute_result"
    }
   ],
   "source": [
    "a-b"
   ]
  },
  {
   "cell_type": "code",
   "execution_count": 13,
   "id": "6e621ff7",
   "metadata": {},
   "outputs": [
    {
     "data": {
      "text/plain": [
       "array([3, 3, 3])"
      ]
     },
     "execution_count": 13,
     "metadata": {},
     "output_type": "execute_result"
    }
   ],
   "source": [
    "b-a"
   ]
  },
  {
   "cell_type": "raw",
   "id": "ddc9e757",
   "metadata": {},
   "source": [
    "Ajouter 10 aux vecteurs"
   ]
  },
  {
   "cell_type": "code",
   "execution_count": 32,
   "id": "f56d202d",
   "metadata": {},
   "outputs": [],
   "source": [
    "a=a+np.array([10])\n",
    "b=b+np.array([10])"
   ]
  },
  {
   "cell_type": "code",
   "execution_count": 34,
   "id": "446947ce",
   "metadata": {},
   "outputs": [
    {
     "data": {
      "text/plain": [
       "array([14, 15, 16])"
      ]
     },
     "execution_count": 34,
     "metadata": {},
     "output_type": "execute_result"
    }
   ],
   "source": [
    "b"
   ]
  },
  {
   "cell_type": "code",
   "execution_count": 33,
   "id": "3ec0b3b9",
   "metadata": {},
   "outputs": [
    {
     "data": {
      "text/plain": [
       "array([11, 12, 13])"
      ]
     },
     "execution_count": 33,
     "metadata": {},
     "output_type": "execute_result"
    }
   ],
   "source": [
    "a"
   ]
  },
  {
   "cell_type": "raw",
   "id": "c2eb2289",
   "metadata": {},
   "source": [
    "Comparer les vecteurs \n",
    "    "
   ]
  },
  {
   "cell_type": "code",
   "execution_count": 35,
   "id": "d01fe676",
   "metadata": {},
   "outputs": [
    {
     "data": {
      "text/plain": [
       "array([False, False, False])"
      ]
     },
     "execution_count": 35,
     "metadata": {},
     "output_type": "execute_result"
    }
   ],
   "source": [
    "a == b "
   ]
  },
  {
   "cell_type": "raw",
   "id": "804c6307",
   "metadata": {},
   "source": [
    "Concaténer les vecteurs "
   ]
  },
  {
   "cell_type": "code",
   "execution_count": 36,
   "id": "e221e1fb",
   "metadata": {},
   "outputs": [
    {
     "data": {
      "text/plain": [
       "array([11, 12, 13, 14, 15, 16])"
      ]
     },
     "execution_count": 36,
     "metadata": {},
     "output_type": "execute_result"
    }
   ],
   "source": [
    "np.concatenate ((a,b))"
   ]
  },
  {
   "cell_type": "raw",
   "id": "a1f1bd88",
   "metadata": {},
   "source": [
    "Tracer la fonction x2 dans l'intervalle -10;10"
   ]
  },
  {
   "cell_type": "code",
   "execution_count": 38,
   "id": "e8d360c7",
   "metadata": {},
   "outputs": [
    {
     "data": {
      "image/png": "[encoded data removed]",
      "text/plain": [
       "<Figure size 640x480 with 1 Axes>"
      ]
     },
     "metadata": {},
     "output_type": "display_data"
    }
   ],
   "source": [
    "x=np.arange(-10,10,0.5)\n",
    "y=x**2\n",
    "\n",
    "plt.plot(x,y)\n",
    "plt.show()"
   ]
  },
  {
   "cell_type": "raw",
   "id": "44dd40f0",
   "metadata": {},
   "source": [
    "Fonction 2x2 + 3x et-x sur le même graphique "
   ]
  },
  {
   "cell_type": "code",
   "execution_count": null,
   "id": "6552bf83",
   "metadata": {},
   "outputs": [],
   "source": [
    "x=np.arange(-10)"
   ]
  }
 ],
 "metadata": {
  "kernelspec": {
   "display_name": "Python 3 (ipykernel)",
   "language": "python",
   "name": "python3"
  },
  "language_info": {
   "codemirror_mode": {
    "name": "ipython",
    "version": 3
   },
   "file_extension": ".py",
   "mimetype": "text/x-python",
   "name": "python",
   "nbconvert_exporter": "python",
   "pygments_lexer": "ipython3",
   "version": "3.11.9"
  }
 },
 "nbformat": 4,
 "nbformat_minor": 5
}
